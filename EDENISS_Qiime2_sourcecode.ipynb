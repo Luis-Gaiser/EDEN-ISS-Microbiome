{
 "cells": [
  {
   "cell_type": "code",
   "execution_count": 2,
   "metadata": {
    "tags": []
   },
   "outputs": [],
   "source": [
    "q='export PATH=/homes/lgaiser/miniconda3/envs/q2dev-amplicon/bin:$PATH'"
   ]
  },
  {
   "cell_type": "code",
   "execution_count": 3,
   "metadata": {
    "tags": []
   },
   "outputs": [
    {
     "name": "stdout",
     "output_type": "stream",
     "text": [
      "\u001b[33mQIIME is caching your current deployment for improved performance. This may take a few moments and should only happen once per deployment.\u001b[0m\n",
      "\u001b[0m"
     ]
    }
   ],
   "source": [
    "! $q;  qiime dev refresh-cache"
   ]
  },
  {
   "cell_type": "markdown",
   "metadata": {
    "tags": []
   },
   "source": [
    "# Preprocessing"
   ]
  },
  {
   "cell_type": "markdown",
   "metadata": {},
   "source": [
    "<font size=\"2\"> <p> Importing reference hits from the first sequencing run </p> </font>"
   ]
  },
  {
   "cell_type": "code",
   "execution_count": null,
   "metadata": {},
   "outputs": [],
   "source": [
    "! $q; qiime tools import \\\n",
    "  --type 'FeatureTable[Frequency]' \\\n",
    "  --input-path EDENISS/From_DADA2/first_run/feature_table_first_run_transposed.biom \\\n",
    "  --output-path EDENISS/Analysis_Paper_DADA2/feature_table_first_run.qza"
   ]
  },
  {
   "cell_type": "code",
   "execution_count": null,
   "metadata": {},
   "outputs": [],
   "source": [
    "! $q; qiime tools import \\\n",
    "    --input-path EDENISS/From_DADA2/first_run/rep_seqs_first_run.fasta \\\n",
    "    --output-path EDENISS/Analysis_Paper_DADA2/rep_seqs_first_run.qza \\\n",
    "    --type 'FeatureData[Sequence]'"
   ]
  },
  {
   "cell_type": "markdown",
   "metadata": {},
   "source": [
    "<font size=\"2\"> <p> Importing reference hits from the missing samples in a second sequencing run </p> </font>"
   ]
  },
  {
   "cell_type": "code",
   "execution_count": null,
   "metadata": {},
   "outputs": [],
   "source": [
    "! $q; qiime tools import \\\n",
    "  --type 'FeatureTable[Frequency]' \\\n",
    "  --input-path EDENISS/From_DADA2/second_run/feature_table_second_run_transposed.biom \\\n",
    "  --output-path EDENISS/Analysis_Paper_DADA2/feature_table_second_run.qza"
   ]
  },
  {
   "cell_type": "code",
   "execution_count": null,
   "metadata": {},
   "outputs": [],
   "source": [
    "! $q; qiime tools import \\\n",
    "    --input-path EDENISS/From_DADA2/second_run/rep_seqs_second_run.fasta \\\n",
    "    --output-path EDENISS/Analysis_Paper_DADA2/rep_seqs_second_run.qza \\\n",
    "    --type 'FeatureData[Sequence]'"
   ]
  },
  {
   "cell_type": "markdown",
   "metadata": {},
   "source": [
    "Import taxonomic annotation from DADA2 "
   ]
  },
  {
   "cell_type": "code",
   "execution_count": null,
   "metadata": {},
   "outputs": [],
   "source": [
    "! $q; qiime tools import \\\n",
    "  --type 'FeatureData[Taxonomy]' \\\n",
    "  --input-path EDENISS/From_DADA2/first_run/taxonomy_first_run.tsv \\\n",
    "  --output-path EDENISS/Analysis_Paper_DADA2/taxonomy_first_run.qza \\\n",
    "  --input-format HeaderlessTSVTaxonomyFormat"
   ]
  },
  {
   "cell_type": "code",
   "execution_count": null,
   "metadata": {},
   "outputs": [],
   "source": [
    "! $q; qiime tools import \\\n",
    "  --type 'FeatureData[Taxonomy]' \\\n",
    "  --input-path EDENISS/From_DADA2/second_run/taxonomy_second_run.tsv \\\n",
    "  --output-path EDENISS/Analysis_Paper_DADA2/taxonomy_second_run.qza \\\n",
    "  --input-format HeaderlessTSVTaxonomyFormat"
   ]
  },
  {
   "cell_type": "markdown",
   "metadata": {},
   "source": [
    "<font size=\"2\"> <p> Using the taxonomic classification from the previous step to remove reads stemming from mitochondria and chloroplasts from the feature table of the first sequencing run </p> </font>"
   ]
  },
  {
   "cell_type": "code",
   "execution_count": null,
   "metadata": {},
   "outputs": [],
   "source": [
    "! $q; qiime taxa filter-table \\\n",
    "    --i-table EDENISS/Analysis_Paper_DADA2/feature_table_first_run.qza \\\n",
    "    --i-taxonomy  EDENISS/Analysis_Paper_DADA2/taxonomy_first_run.qza \\\n",
    "    --p-exclude mitochondria,chloroplast \\\n",
    "    --verbose \\\n",
    "    --o-filtered-table EDENISS/Analysis_Paper_DADA2/feature_table_first_run-filtered.qza"
   ]
  },
  {
   "cell_type": "markdown",
   "metadata": {},
   "source": [
    "<font size=\"2\"> <p> Filtering the feature table from the second run in the same way </p> </font>"
   ]
  },
  {
   "cell_type": "code",
   "execution_count": null,
   "metadata": {},
   "outputs": [],
   "source": [
    "! $q; qiime taxa filter-table \\\n",
    "    --i-table EDENISS/Analysis_Paper_DADA2/feature_table_second_run.qza \\\n",
    "    --i-taxonomy  EDENISS/Analysis_Paper_DADA2/taxonomy_second_run.qza \\\n",
    "    --p-exclude mitochondria,chloroplast \\\n",
    "    --o-filtered-table EDENISS/Analysis_Paper_DADA2/feature_table_second_run-filtered.qza"
   ]
  },
  {
   "cell_type": "markdown",
   "metadata": {},
   "source": [
    "Both taxonomies were then merged for later use"
   ]
  },
  {
   "cell_type": "code",
   "execution_count": null,
   "metadata": {},
   "outputs": [],
   "source": [
    "! $q;  qiime feature-table merge-taxa \\\n",
    "    --i-data EDENISS/Analysis_Paper_DADA2/taxonomy_first_run.qza EDENISS/Analysis_Paper_DADA2/taxonomy_second_run.qza \\\n",
    "    --o-merged-data EDENISS/Analysis_Paper_DADA2/taxonomy-final.qza"
   ]
  },
  {
   "cell_type": "markdown",
   "metadata": {},
   "source": [
    "# Quality control"
   ]
  },
  {
   "cell_type": "markdown",
   "metadata": {},
   "source": [
    "The q2-quality-control plugin was used to remove contaminants introduced during DNA extraction and library preparation."
   ]
  },
  {
   "cell_type": "markdown",
   "metadata": {},
   "source": [
    "decontam-identify was used to calculate the likelihood that a read was the result of a contamination"
   ]
  },
  {
   "cell_type": "code",
   "execution_count": null,
   "metadata": {},
   "outputs": [],
   "source": [
    "! $q; qiime quality-control decontam-identify \\\n",
    "    --i-table EDENISS/Analysis_Paper_DADA2/feature_table_first_run-filtered.qza \\\n",
    "    --m-metadata-file EDENISS/Metadata/decontam_metadata_DADA2.tsv \\\n",
    "    --p-method combined \\\n",
    "    --p-freq-concentration-column DNA-concentration \\\n",
    "    --p-prev-control-column sample-type \\\n",
    "    --p-prev-control-indicator control-blank \\\n",
    "    --o-decontam-scores EDENISS/Analysis_Paper_DADA2/decontam/scores-first-run.qza "
   ]
  },
  {
   "cell_type": "markdown",
   "metadata": {},
   "source": [
    "decontam-score-viz was used to visualize the likelihood scores in a histogram to decide on a cutoff value for reads to be discarded"
   ]
  },
  {
   "cell_type": "code",
   "execution_count": null,
   "metadata": {},
   "outputs": [],
   "source": [
    "! $q; qiime quality-control decontam-score-viz \\\n",
    "    --i-decontam-scores EDENISS/Analysis_Paper_DADA2/decontam/scores-first-run.qza   \\\n",
    "    --i-table EDENISS/Analysis_Paper_DADA2/feature_table_first_run-filtered.qza \\\n",
    "    --o-visualization EDENISS/Analysis_Paper_DADA2/decontam/hist-first-run.qzv"
   ]
  },
  {
   "cell_type": "markdown",
   "metadata": {},
   "source": [
    "decontam-remove was used to filter out reads with values below the chosen threshold"
   ]
  },
  {
   "cell_type": "code",
   "execution_count": null,
   "metadata": {},
   "outputs": [],
   "source": [
    "! $q; qiime quality-control decontam-remove \\\n",
    "    --i-decontam-scores EDENISS/Analysis_Paper_DADA2/decontam/scores-first-run.qza \\\n",
    "    --i-rep-seqs EDENISS/Analysis_Paper_DADA2/rep_seqs_first_run.qza \\\n",
    "    --i-table EDENISS/Analysis_Paper_DADA2/feature_table_first_run-filtered.qza \\\n",
    "    --p-threshold 0.1 \\\n",
    "    --o-filtered-table EDENISS/Analysis_Paper_DADA2/feature_table_first_run_decontam.qza \\\n",
    "    --o-filtered-rep-seqs EDENISS/Analysis_Paper_DADA2/rep_seqs_first_run_filterd_seqs_decontam.qza"
   ]
  },
  {
   "cell_type": "markdown",
   "metadata": {},
   "source": [
    "The same process was used to filter the samples from the second run"
   ]
  },
  {
   "cell_type": "code",
   "execution_count": null,
   "metadata": {},
   "outputs": [],
   "source": [
    "! $q; qiime quality-control decontam-identify \\\n",
    "    --i-table EDENISS/Analysis_Paper_DADA2/feature_table_second_run-filtered.qza \\\n",
    "    --m-metadata-file EDENISS/Metadata/decontam_metadata_FEG9_FEG10_DADA2.tsv \\\n",
    "    --p-method combined \\\n",
    "    --p-freq-concentration-column DNA-concentration \\\n",
    "    --p-prev-control-column sample-type \\\n",
    "    --p-prev-control-indicator control-blank \\\n",
    "    --o-decontam-scores EDENISS/Analysis_Paper_DADA2/decontam/scores-second-run.qza "
   ]
  },
  {
   "cell_type": "code",
   "execution_count": null,
   "metadata": {},
   "outputs": [],
   "source": [
    "! $q; qiime quality-control decontam-score-viz \\\n",
    "    --i-decontam-scores EDENISS/Analysis_Paper_DADA2/decontam/scores-second-run.qza   \\\n",
    "    --i-table EDENISS/Analysis_Paper_DADA2/feature_table_second_run-filtered.qza \\\n",
    "    --o-visualization EDENISS/Analysis_Paper_DADA2/decontam/hist-second-run.qzv"
   ]
  },
  {
   "cell_type": "code",
   "execution_count": null,
   "metadata": {},
   "outputs": [],
   "source": [
    "! $q; qiime quality-control decontam-remove \\\n",
    "    --i-decontam-scores EDENISS/Analysis_Paper_DADA2/decontam/scores-second-run.qza \\\n",
    "    --i-table EDENISS/Analysis_Paper_DADA2/feature_table_second_run-filtered.qza \\\n",
    "    --i-rep-seqs EDENISS/Analysis_Paper_DADA2/rep_seqs_second_run.qza \\\n",
    "    --p-threshold 0.4 \\\n",
    "    --o-filtered-table EDENISS/Analysis_Paper_DADA2/feature_table_second_run_decontam.qza \\\n",
    "    --o-filtered-rep-seqs EDENISS/Analysis_Paper_DADA2/rep_seqs_second_run_filterd_seqs_decontam.qza"
   ]
  },
  {
   "cell_type": "markdown",
   "metadata": {},
   "source": [
    "The NTC and ZymoStandard columns were removed from both feature tables. Feature tables and repseqs from both runs were then merged "
   ]
  },
  {
   "cell_type": "code",
   "execution_count": null,
   "metadata": {},
   "outputs": [],
   "source": [
    "! $q; qiime tools import \\\n",
    "  --type 'FeatureTable[Frequency]' \\\n",
    "  --input-path EDENISS/Analysis_Paper_DADA2/import/feature_table_first_run_decontam_noctrl.biom \\\n",
    "  --output-path EDENISS/Analysis_Paper_DADA2/feature_table_first_run_decontam_noctrl.qza"
   ]
  },
  {
   "cell_type": "code",
   "execution_count": null,
   "metadata": {},
   "outputs": [],
   "source": [
    "! $q; qiime tools import \\\n",
    "  --type 'FeatureTable[Frequency]' \\\n",
    "  --input-path EDENISS/Analysis_Paper_DADA2/import/feature_table_second_run_decontam_noctrl.biom \\\n",
    "  --output-path EDENISS/Analysis_Paper_DADA2/feature_table_second_run_decontam_noctrl.qza"
   ]
  },
  {
   "cell_type": "code",
   "execution_count": null,
   "metadata": {},
   "outputs": [],
   "source": [
    "! $q; qiime feature-table merge \\\n",
    "    --i-tables EDENISS/Analysis_Paper_DADA2/feature_table_first_run_decontam_noctrl.qza EDENISS/Analysis_Paper_DADA2/feature_table_second_run_decontam_noctrl.qza \\\n",
    "    --o-merged-table EDENISS/Analysis_Paper_DADA2/feature-table-combined.qza"
   ]
  },
  {
   "cell_type": "code",
   "execution_count": null,
   "metadata": {},
   "outputs": [],
   "source": [
    "! $q; qiime feature-table merge-seqs \\\n",
    "    --i-data EDENISS/Analysis_Paper_DADA2/rep_seqs_first_run_filterd_seqs_decontam.qza EDENISS/Analysis_Paper_DADA2/rep_seqs_second_run_filterd_seqs_decontam.qza \\\n",
    "    --o-merged-data EDENISS/Analysis_Paper_DADA2/rep-seqs-combined.qza"
   ]
  },
  {
   "cell_type": "markdown",
   "metadata": {},
   "source": [
    "After merging the two sequencing runs the table was split into tables for pre-cleaning, post-cleaning and samples from the second campaign"
   ]
  },
  {
   "cell_type": "code",
   "execution_count": null,
   "metadata": {},
   "outputs": [],
   "source": [
    "! $q; qiime feature-table split \\\n",
    "    --i-table EDENISS/Analysis_Paper_DADA2/feature-table-combined.qza \\\n",
    "    --m-metadata-file EDENISS/Metadata/Metadata_combined_DADA2.tsv \\\n",
    "    --m-metadata-column split_table \\\n",
    "    --o-tables EDENISS/Analysis_Paper_DADA2/split_tables"
   ]
  },
  {
   "cell_type": "markdown",
   "metadata": {},
   "source": [
    "The pre- and post-cleaning samples were again filtered with decontam to remove contaminations that were caused during the sample aqcuisition. This step was skipped for the samples from the second campaign due to the lack of control samples."
   ]
  },
  {
   "cell_type": "markdown",
   "metadata": {},
   "source": [
    "Pre-cleaning"
   ]
  },
  {
   "cell_type": "code",
   "execution_count": null,
   "metadata": {},
   "outputs": [],
   "source": [
    "! $q; qiime quality-control decontam-identify \\\n",
    "    --i-table EDENISS/Analysis_Paper_DADA2/split_tables/Pre.qza \\\n",
    "    --m-metadata-file EDENISS/Metadata/decontam_metadata_pre_DADA2.tsv \\\n",
    "    --p-method combined \\\n",
    "    --p-freq-concentration-column DNA-concentration \\\n",
    "    --p-prev-control-column sample-type \\\n",
    "    --p-prev-control-indicator control-sampling_pre \\\n",
    "    --o-decontam-scores EDENISS/Analysis_Paper_DADA2/decontam/scores-pre-cleaning.qza "
   ]
  },
  {
   "cell_type": "code",
   "execution_count": null,
   "metadata": {},
   "outputs": [],
   "source": [
    "! $q; qiime quality-control decontam-score-viz \\\n",
    "    --i-decontam-scores EDENISS/Analysis_Paper_DADA2/decontam/scores-pre-cleaning.qza   \\\n",
    "    --i-table EDENISS/Analysis_Paper_DADA2/split_tables/Pre.qza \\\n",
    "    --o-visualization EDENISS/Analysis_Paper_DADA2/decontam/hist-pre-cleaning.qzv"
   ]
  },
  {
   "cell_type": "code",
   "execution_count": null,
   "metadata": {},
   "outputs": [],
   "source": [
    "! $q; qiime quality-control decontam-remove \\\n",
    "    --i-decontam-scores EDENISS/Analysis_Paper_DADA2/decontam/scores-pre-filtered.qza \\\n",
    "    --i-table EDENISS/Analysis_Paper_DADA2/split_tables/Pre-filtered.qza \\\n",
    "    --i-rep-seqs EDENISS/Analysis_Paper_DADA2/rep-seqs-combined-filtered.qza \\\n",
    "    --p-threshold 0.14 \\\n",
    "    --o-filtered-table EDENISS/Analysis_Paper_DADA2/feature-table-pre-cleaning-filtered.qza \\\n",
    "    --o-filtered-rep-seqs EDENISS/Analysis_Paper_DADA2/rep-seqs-pre-cleaning-filtered.qza"
   ]
  },
  {
   "cell_type": "markdown",
   "metadata": {},
   "source": [
    "Post-cleaning"
   ]
  },
  {
   "cell_type": "code",
   "execution_count": null,
   "metadata": {},
   "outputs": [],
   "source": [
    "! $q; qiime quality-control decontam-identify \\\n",
    "    --i-table EDENISS/Analysis_Paper_DADA2/split_tables/Post.qza \\\n",
    "    --m-metadata-file EDENISS/Metadata/decontam_metadata_post_DADA2.tsv \\\n",
    "    --p-method combined \\\n",
    "    --p-freq-concentration-column DNA-concentration \\\n",
    "    --p-prev-control-column sample-type \\\n",
    "    --p-prev-control-indicator control-sampling_post \\\n",
    "    --o-decontam-scores EDENISS/Analysis_Paper_DADA2/decontam/scores-post-cleaning.qza "
   ]
  },
  {
   "cell_type": "code",
   "execution_count": null,
   "metadata": {},
   "outputs": [],
   "source": [
    "! $q; qiime quality-control decontam-score-viz \\\n",
    "    --i-decontam-scores EDENISS/Analysis_Paper_DADA2/decontam/scores-post-cleaning.qza   \\\n",
    "    --i-table EDENISS/Analysis_Paper_DADA2/split_tables/Post.qza \\\n",
    "    --o-visualization EDENISS/Analysis_Paper_DADA2/decontam/hist-post-cleaning.qzv"
   ]
  },
  {
   "cell_type": "code",
   "execution_count": null,
   "metadata": {},
   "outputs": [],
   "source": [
    "! $q; qiime quality-control decontam-remove \\\n",
    "    --i-decontam-scores EDENISS/Analysis_Paper_DADA2/decontam/scores-post-filtered.qza \\\n",
    "    --i-table EDENISS/Analysis_Paper_DADA2/split_tables/Post-filtered.qza \\\n",
    "    --i-rep-seqs EDENISS/Analysis_Paper_DADA2/rep-seqs-combined.qza \\\n",
    "    --p-threshold 0.18 \\\n",
    "    --o-filtered-table EDENISS/Analysis_Paper_DADA2/feature-table-post-cleaning-filtered.qza \\\n",
    "    --o-filtered-rep-seqs EDENISS/Analysis_Paper_DADA2/rep-seqs-post-cleaning-filtered.qza"
   ]
  },
  {
   "cell_type": "markdown",
   "metadata": {},
   "source": [
    "After filtering the pre- and post-cleaning feature tables were merged again"
   ]
  },
  {
   "cell_type": "code",
   "execution_count": null,
   "metadata": {},
   "outputs": [],
   "source": [
    "! $q; qiime feature-table merge \\\n",
    "    --i-tables EDENISS/Analysis_Paper_DADA2/feature-table-pre-cleaning-filtered.qza EDENISS/Analysis_Paper_DADA2/feature-table-post-cleaning-filtered.qza  \\\n",
    "    --o-merged-table EDENISS/Analysis_Paper_DADA2/feature-table-combined-filtered.qza"
   ]
  },
  {
   "cell_type": "code",
   "execution_count": 4,
   "metadata": {},
   "outputs": [
    {
     "name": "stdout",
     "output_type": "stream",
     "text": [
      "\u001b[32mSaved FeatureTable[Frequency] to: EDENISS/Analysis_Paper_DADA2/feature-table-all-filtered.qza\u001b[0m\n",
      "\u001b[0m"
     ]
    }
   ],
   "source": [
    "! $q; qiime feature-table merge \\\n",
    "    --i-tables EDENISS/Analysis_Paper_DADA2/feature-table-combined-filtered.qza EDENISS/Analysis_Paper_DADA2/split_tables/FEG9.qza  \\\n",
    "    --o-merged-table EDENISS/Analysis_Paper_DADA2/feature-table-all-filtered.qza"
   ]
  }
 ],
 "metadata": {
  "kernelspec": {
   "display_name": "q2dev-amplicon",
   "language": "python",
   "name": "myenv"
  },
  "language_info": {
   "codemirror_mode": {
    "name": "ipython",
    "version": 3
   },
   "file_extension": ".py",
   "mimetype": "text/x-python",
   "name": "python",
   "nbconvert_exporter": "python",
   "pygments_lexer": "ipython3",
   "version": "3.9.19"
  }
 },
 "nbformat": 4,
 "nbformat_minor": 4
}
